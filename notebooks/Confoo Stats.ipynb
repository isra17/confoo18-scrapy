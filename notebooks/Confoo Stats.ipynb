{
 "cells": [
  {
   "cell_type": "code",
   "execution_count": 27,
   "metadata": {},
   "outputs": [],
   "source": [
    "%matplotlib notebook\n",
    "import sqlite3\n",
    "import cufflinks as cf\n",
    "import pandas as pd\n",
    "import matplotlib\n",
    "from plotly import plotly\n",
    "\n",
    "# Load data\n",
    "db = sqlite3.connect(\"../confs.db\")\n",
    "speakers = pd.read_sql_query(\"SELECT * from speakers\", db)\n",
    "\n",
    "cf.set_config_file(theme='polar')"
   ]
  },
  {
   "cell_type": "code",
   "execution_count": 2,
   "metadata": {},
   "outputs": [
    {
     "data": {
      "text/html": [
       "<iframe id=\"igraph\" scrolling=\"no\" style=\"border:none;\" seamless=\"seamless\" src=\"https://plot.ly/~isra17/38.embed\" height=\"525px\" width=\"100%\"></iframe>"
      ],
      "text/plain": [
       "<plotly.tools.PlotlyDisplay object>"
      ]
     },
     "execution_count": 2,
     "metadata": {},
     "output_type": "execute_result"
    }
   ],
   "source": [
    "speakers['country'].value_counts().iplot(kind='bar', filename='speakers-country')"
   ]
  },
  {
   "cell_type": "code",
   "execution_count": 136,
   "metadata": {},
   "outputs": [
    {
     "data": {
      "text/html": [
       "<iframe id=\"igraph\" scrolling=\"no\" style=\"border:none;\" seamless=\"seamless\" src=\"https://plot.ly/~isra17/44.embed\" height=\"525px\" width=\"100%\"></iframe>"
      ],
      "text/plain": [
       "<plotly.tools.PlotlyDisplay object>"
      ]
     },
     "execution_count": 136,
     "metadata": {},
     "output_type": "execute_result"
    }
   ],
   "source": [
    "df = pd.read_sql_query(\"\"\"\n",
    "SELECT s.*, t.tag from sessions s \n",
    "LEFT JOIN session_tags t ON t.session = s.id\n",
    "\"\"\", db)\n",
    "\n",
    "mapping = {\n",
    "    'js': 'javascript',\n",
    "    'pm': 'project-management',\n",
    "    'accessib': 'accessibility',\n",
    "    'cloud': 'cloud-computing',\n",
    "    'data': 'data-science',\n",
    "    'front-end': 'frontend',\n",
    "    'db': 'databases',\n",
    "    'qa': 'testing-qa',\n",
    "}\n",
    "df['tag'] = df['tag'].map(lambda t: mapping.get(t) or t)\n",
    "df['tag'].value_counts()[:15].iplot(kind='bar', filename='sessions-tags')"
   ]
  },
  {
   "cell_type": "code",
   "execution_count": 137,
   "metadata": {},
   "outputs": [
    {
     "data": {
      "text/html": [
       "<iframe id=\"igraph\" scrolling=\"no\" style=\"border:none;\" seamless=\"seamless\" src=\"https://plot.ly/~isra17/46.embed\" height=\"525px\" width=\"100%\"></iframe>"
      ],
      "text/plain": [
       "<plotly.tools.PlotlyDisplay object>"
      ]
     },
     "execution_count": 137,
     "metadata": {},
     "output_type": "execute_result"
    }
   ],
   "source": [
    "import re\n",
    "\n",
    "df['year'] = df.apply(lambda r: int(re.search(r'\\d+', r.edition).group(0)), axis=1)\n",
    "\n",
    "pivot = df.pivot_table(index='year', columns='tag', values='id', fill_value=0, aggfunc='count')\n",
    "pivot_sum = pivot.sum(axis=1)\n",
    "pivot = pivot.apply(lambda c: c/pivot_sum)\n",
    "pivot = pivot.applymap(lambda x: f'{x*100:0.2f}')\n",
    "pivot.iplot(filename='tag-per-year')"
   ]
  },
  {
   "cell_type": "code",
   "execution_count": null,
   "metadata": {},
   "outputs": [],
   "source": []
  }
 ],
 "metadata": {
  "kernelspec": {
   "display_name": "Python 3",
   "language": "python",
   "name": "python3"
  },
  "language_info": {
   "codemirror_mode": {
    "name": "ipython",
    "version": 3
   },
   "file_extension": ".py",
   "mimetype": "text/x-python",
   "name": "python",
   "nbconvert_exporter": "python",
   "pygments_lexer": "ipython3",
   "version": "3.6.4"
  }
 },
 "nbformat": 4,
 "nbformat_minor": 2
}
